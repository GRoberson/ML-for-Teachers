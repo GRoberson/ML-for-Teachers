{
  "cells": [
    {
      "cell_type": "markdown",
      "source": [
        "# Statistics"
      ],
      "metadata": {
        "id": "uYWwmH39Fxkc"
      },
      "id": "uYWwmH39Fxkc"
    },
    {
      "cell_type": "markdown",
      "source": [
        "There are 2 types of Statistics:  \n",
        "\n",
        "\n",
        "## <font color='blue'>**1. Descriptive Statistics**</font>\n",
        "\n",
        "The word descriptive means \"**DESCRIBE**\"\n",
        "\n",
        "Descriptive statistics involve summarizing and presenting data in a meaningful way, providing a clear and concise overview of a dataset.\n",
        "\n",
        "## <font color='blue'>**2. Inferential Statistics**</font>\n",
        "\n",
        "Inferential statistics, on the other hand, involve making predictions, inferences, or drawing conclusions about a larger population based on a sample of data."
      ],
      "metadata": {
        "id": "7ooBj4ENFeoL"
      },
      "id": "7ooBj4ENFeoL"
    },
    {
      "cell_type": "markdown",
      "source": [
        "## <font color='blue'>**Measures of Central Tendency**</font>  \n",
        "\n",
        "In statistics, we often use measures to understand and describe a set of data.  \n",
        "\n",
        "Three common measures are:  \n",
        "\n",
        "1. <font color='purple'>**Mean**</font>    \n",
        "  - The Mean is the average of all data points\n",
        "\n",
        "2. <font color='purple'>**Median**</font>    \n",
        "  - The Median is the middle value when the data is sorted.\n",
        "\n",
        "3. <font color='purple'>**Mode**</font>  \n",
        "\n",
        " - It is the observation with the highest frequency"
      ],
      "metadata": {
        "id": "rZVJ1xAGFvME"
      },
      "id": "rZVJ1xAGFvME"
    },
    {
      "cell_type": "markdown",
      "source": [
        "\n",
        "**Approach:**  \n",
        "\n",
        "### <font color='purple'>**1) Mean**</font>  \n",
        "\n",
        "  - **$\\Largeμ = \\frac{∑X}{N}$**    \n",
        "\n",
        "  Where,\n",
        "    - $μ$ = population mean  \n",
        "    - $∑X$ = sum of each value in the population\n",
        "    - $N$ = number of values in the population\n",
        "\n",
        "\n",
        "<br>\n",
        "\n",
        "### <font color='purple'>**2) Median**</font>\n",
        "\n",
        "Here comes the concept of **\"Median\"** to measure central tendency instead of measuring it using **Mean**.\n",
        "\n",
        "**Formula:**\n",
        "\n",
        "The median would be:  \n",
        "$\\Large (\\frac{n+1}{2})th$ observation's value\n",
        "\n",
        "### <font color='purple'>**3) Mode**</font>  \n",
        "\n",
        "It is the observation with the highest frequency. It is **most occurring data point** in the dataset.\n",
        "\n",
        "\n"
      ],
      "metadata": {
        "id": "fuSUK9MNF_Aj"
      },
      "id": "fuSUK9MNF_Aj"
    },
    {
      "cell_type": "code",
      "source": [
        "# Import pandas to handle csv file\n",
        "import pandas as pd"
      ],
      "metadata": {
        "id": "XaEZpvv4vUV2"
      },
      "id": "XaEZpvv4vUV2",
      "execution_count": 2,
      "outputs": []
    },
    {
      "cell_type": "code",
      "source": [
        "# Import Dataset\n",
        "df=pd.read_csv('https://raw.githubusercontent.com/pritkudale/ML-for-Teachers/refs/heads/main/Statistics/Car.csv')"
      ],
      "metadata": {
        "id": "8AaPPb-TvWnk"
      },
      "id": "8AaPPb-TvWnk",
      "execution_count": 3,
      "outputs": []
    },
    {
      "cell_type": "code",
      "source": [
        "# Print first 5 rows of the dataset\n",
        "df.head()"
      ],
      "metadata": {
        "colab": {
          "base_uri": "https://localhost:8080/",
          "height": 206
        },
        "id": "akYfAu0dDiXq",
        "outputId": "2c9cdccb-20b6-497f-ba09-bda238017d0a"
      },
      "id": "akYfAu0dDiXq",
      "execution_count": 4,
      "outputs": [
        {
          "output_type": "execute_result",
          "data": {
            "text/plain": [
              "     Name  Monthly Income (Lacks) Brand of Costliest car they own\n",
              "0  Mahesh                       6                            Audi\n",
              "1  Suresh                       5                            Audi\n",
              "2  Ramesh                       7                             BMW\n",
              "3  Rakesh                       4                            Audi\n",
              "4  Paresh                       3                            Ford"
            ],
            "text/html": [
              "\n",
              "  <div id=\"df-7001523a-1741-4d4b-88aa-b876bffcf84e\" class=\"colab-df-container\">\n",
              "    <div>\n",
              "<style scoped>\n",
              "    .dataframe tbody tr th:only-of-type {\n",
              "        vertical-align: middle;\n",
              "    }\n",
              "\n",
              "    .dataframe tbody tr th {\n",
              "        vertical-align: top;\n",
              "    }\n",
              "\n",
              "    .dataframe thead th {\n",
              "        text-align: right;\n",
              "    }\n",
              "</style>\n",
              "<table border=\"1\" class=\"dataframe\">\n",
              "  <thead>\n",
              "    <tr style=\"text-align: right;\">\n",
              "      <th></th>\n",
              "      <th>Name</th>\n",
              "      <th>Monthly Income (Lacks)</th>\n",
              "      <th>Brand of Costliest car they own</th>\n",
              "    </tr>\n",
              "  </thead>\n",
              "  <tbody>\n",
              "    <tr>\n",
              "      <th>0</th>\n",
              "      <td>Mahesh</td>\n",
              "      <td>6</td>\n",
              "      <td>Audi</td>\n",
              "    </tr>\n",
              "    <tr>\n",
              "      <th>1</th>\n",
              "      <td>Suresh</td>\n",
              "      <td>5</td>\n",
              "      <td>Audi</td>\n",
              "    </tr>\n",
              "    <tr>\n",
              "      <th>2</th>\n",
              "      <td>Ramesh</td>\n",
              "      <td>7</td>\n",
              "      <td>BMW</td>\n",
              "    </tr>\n",
              "    <tr>\n",
              "      <th>3</th>\n",
              "      <td>Rakesh</td>\n",
              "      <td>4</td>\n",
              "      <td>Audi</td>\n",
              "    </tr>\n",
              "    <tr>\n",
              "      <th>4</th>\n",
              "      <td>Paresh</td>\n",
              "      <td>3</td>\n",
              "      <td>Ford</td>\n",
              "    </tr>\n",
              "  </tbody>\n",
              "</table>\n",
              "</div>\n",
              "    <div class=\"colab-df-buttons\">\n",
              "\n",
              "  <div class=\"colab-df-container\">\n",
              "    <button class=\"colab-df-convert\" onclick=\"convertToInteractive('df-7001523a-1741-4d4b-88aa-b876bffcf84e')\"\n",
              "            title=\"Convert this dataframe to an interactive table.\"\n",
              "            style=\"display:none;\">\n",
              "\n",
              "  <svg xmlns=\"http://www.w3.org/2000/svg\" height=\"24px\" viewBox=\"0 -960 960 960\">\n",
              "    <path d=\"M120-120v-720h720v720H120Zm60-500h600v-160H180v160Zm220 220h160v-160H400v160Zm0 220h160v-160H400v160ZM180-400h160v-160H180v160Zm440 0h160v-160H620v160ZM180-180h160v-160H180v160Zm440 0h160v-160H620v160Z\"/>\n",
              "  </svg>\n",
              "    </button>\n",
              "\n",
              "  <style>\n",
              "    .colab-df-container {\n",
              "      display:flex;\n",
              "      gap: 12px;\n",
              "    }\n",
              "\n",
              "    .colab-df-convert {\n",
              "      background-color: #E8F0FE;\n",
              "      border: none;\n",
              "      border-radius: 50%;\n",
              "      cursor: pointer;\n",
              "      display: none;\n",
              "      fill: #1967D2;\n",
              "      height: 32px;\n",
              "      padding: 0 0 0 0;\n",
              "      width: 32px;\n",
              "    }\n",
              "\n",
              "    .colab-df-convert:hover {\n",
              "      background-color: #E2EBFA;\n",
              "      box-shadow: 0px 1px 2px rgba(60, 64, 67, 0.3), 0px 1px 3px 1px rgba(60, 64, 67, 0.15);\n",
              "      fill: #174EA6;\n",
              "    }\n",
              "\n",
              "    .colab-df-buttons div {\n",
              "      margin-bottom: 4px;\n",
              "    }\n",
              "\n",
              "    [theme=dark] .colab-df-convert {\n",
              "      background-color: #3B4455;\n",
              "      fill: #D2E3FC;\n",
              "    }\n",
              "\n",
              "    [theme=dark] .colab-df-convert:hover {\n",
              "      background-color: #434B5C;\n",
              "      box-shadow: 0px 1px 3px 1px rgba(0, 0, 0, 0.15);\n",
              "      filter: drop-shadow(0px 1px 2px rgba(0, 0, 0, 0.3));\n",
              "      fill: #FFFFFF;\n",
              "    }\n",
              "  </style>\n",
              "\n",
              "    <script>\n",
              "      const buttonEl =\n",
              "        document.querySelector('#df-7001523a-1741-4d4b-88aa-b876bffcf84e button.colab-df-convert');\n",
              "      buttonEl.style.display =\n",
              "        google.colab.kernel.accessAllowed ? 'block' : 'none';\n",
              "\n",
              "      async function convertToInteractive(key) {\n",
              "        const element = document.querySelector('#df-7001523a-1741-4d4b-88aa-b876bffcf84e');\n",
              "        const dataTable =\n",
              "          await google.colab.kernel.invokeFunction('convertToInteractive',\n",
              "                                                    [key], {});\n",
              "        if (!dataTable) return;\n",
              "\n",
              "        const docLinkHtml = 'Like what you see? Visit the ' +\n",
              "          '<a target=\"_blank\" href=https://colab.research.google.com/notebooks/data_table.ipynb>data table notebook</a>'\n",
              "          + ' to learn more about interactive tables.';\n",
              "        element.innerHTML = '';\n",
              "        dataTable['output_type'] = 'display_data';\n",
              "        await google.colab.output.renderOutput(dataTable, element);\n",
              "        const docLink = document.createElement('div');\n",
              "        docLink.innerHTML = docLinkHtml;\n",
              "        element.appendChild(docLink);\n",
              "      }\n",
              "    </script>\n",
              "  </div>\n",
              "\n",
              "\n",
              "<div id=\"df-5296edeb-f13c-4e39-9439-e8f42c78a8ac\">\n",
              "  <button class=\"colab-df-quickchart\" onclick=\"quickchart('df-5296edeb-f13c-4e39-9439-e8f42c78a8ac')\"\n",
              "            title=\"Suggest charts\"\n",
              "            style=\"display:none;\">\n",
              "\n",
              "<svg xmlns=\"http://www.w3.org/2000/svg\" height=\"24px\"viewBox=\"0 0 24 24\"\n",
              "     width=\"24px\">\n",
              "    <g>\n",
              "        <path d=\"M19 3H5c-1.1 0-2 .9-2 2v14c0 1.1.9 2 2 2h14c1.1 0 2-.9 2-2V5c0-1.1-.9-2-2-2zM9 17H7v-7h2v7zm4 0h-2V7h2v10zm4 0h-2v-4h2v4z\"/>\n",
              "    </g>\n",
              "</svg>\n",
              "  </button>\n",
              "\n",
              "<style>\n",
              "  .colab-df-quickchart {\n",
              "      --bg-color: #E8F0FE;\n",
              "      --fill-color: #1967D2;\n",
              "      --hover-bg-color: #E2EBFA;\n",
              "      --hover-fill-color: #174EA6;\n",
              "      --disabled-fill-color: #AAA;\n",
              "      --disabled-bg-color: #DDD;\n",
              "  }\n",
              "\n",
              "  [theme=dark] .colab-df-quickchart {\n",
              "      --bg-color: #3B4455;\n",
              "      --fill-color: #D2E3FC;\n",
              "      --hover-bg-color: #434B5C;\n",
              "      --hover-fill-color: #FFFFFF;\n",
              "      --disabled-bg-color: #3B4455;\n",
              "      --disabled-fill-color: #666;\n",
              "  }\n",
              "\n",
              "  .colab-df-quickchart {\n",
              "    background-color: var(--bg-color);\n",
              "    border: none;\n",
              "    border-radius: 50%;\n",
              "    cursor: pointer;\n",
              "    display: none;\n",
              "    fill: var(--fill-color);\n",
              "    height: 32px;\n",
              "    padding: 0;\n",
              "    width: 32px;\n",
              "  }\n",
              "\n",
              "  .colab-df-quickchart:hover {\n",
              "    background-color: var(--hover-bg-color);\n",
              "    box-shadow: 0 1px 2px rgba(60, 64, 67, 0.3), 0 1px 3px 1px rgba(60, 64, 67, 0.15);\n",
              "    fill: var(--button-hover-fill-color);\n",
              "  }\n",
              "\n",
              "  .colab-df-quickchart-complete:disabled,\n",
              "  .colab-df-quickchart-complete:disabled:hover {\n",
              "    background-color: var(--disabled-bg-color);\n",
              "    fill: var(--disabled-fill-color);\n",
              "    box-shadow: none;\n",
              "  }\n",
              "\n",
              "  .colab-df-spinner {\n",
              "    border: 2px solid var(--fill-color);\n",
              "    border-color: transparent;\n",
              "    border-bottom-color: var(--fill-color);\n",
              "    animation:\n",
              "      spin 1s steps(1) infinite;\n",
              "  }\n",
              "\n",
              "  @keyframes spin {\n",
              "    0% {\n",
              "      border-color: transparent;\n",
              "      border-bottom-color: var(--fill-color);\n",
              "      border-left-color: var(--fill-color);\n",
              "    }\n",
              "    20% {\n",
              "      border-color: transparent;\n",
              "      border-left-color: var(--fill-color);\n",
              "      border-top-color: var(--fill-color);\n",
              "    }\n",
              "    30% {\n",
              "      border-color: transparent;\n",
              "      border-left-color: var(--fill-color);\n",
              "      border-top-color: var(--fill-color);\n",
              "      border-right-color: var(--fill-color);\n",
              "    }\n",
              "    40% {\n",
              "      border-color: transparent;\n",
              "      border-right-color: var(--fill-color);\n",
              "      border-top-color: var(--fill-color);\n",
              "    }\n",
              "    60% {\n",
              "      border-color: transparent;\n",
              "      border-right-color: var(--fill-color);\n",
              "    }\n",
              "    80% {\n",
              "      border-color: transparent;\n",
              "      border-right-color: var(--fill-color);\n",
              "      border-bottom-color: var(--fill-color);\n",
              "    }\n",
              "    90% {\n",
              "      border-color: transparent;\n",
              "      border-bottom-color: var(--fill-color);\n",
              "    }\n",
              "  }\n",
              "</style>\n",
              "\n",
              "  <script>\n",
              "    async function quickchart(key) {\n",
              "      const quickchartButtonEl =\n",
              "        document.querySelector('#' + key + ' button');\n",
              "      quickchartButtonEl.disabled = true;  // To prevent multiple clicks.\n",
              "      quickchartButtonEl.classList.add('colab-df-spinner');\n",
              "      try {\n",
              "        const charts = await google.colab.kernel.invokeFunction(\n",
              "            'suggestCharts', [key], {});\n",
              "      } catch (error) {\n",
              "        console.error('Error during call to suggestCharts:', error);\n",
              "      }\n",
              "      quickchartButtonEl.classList.remove('colab-df-spinner');\n",
              "      quickchartButtonEl.classList.add('colab-df-quickchart-complete');\n",
              "    }\n",
              "    (() => {\n",
              "      let quickchartButtonEl =\n",
              "        document.querySelector('#df-5296edeb-f13c-4e39-9439-e8f42c78a8ac button');\n",
              "      quickchartButtonEl.style.display =\n",
              "        google.colab.kernel.accessAllowed ? 'block' : 'none';\n",
              "    })();\n",
              "  </script>\n",
              "</div>\n",
              "\n",
              "    </div>\n",
              "  </div>\n"
            ],
            "application/vnd.google.colaboratory.intrinsic+json": {
              "type": "dataframe",
              "variable_name": "df",
              "summary": "{\n  \"name\": \"df\",\n  \"rows\": 6,\n  \"fields\": [\n    {\n      \"column\": \"Name\",\n      \"properties\": {\n        \"dtype\": \"string\",\n        \"num_unique_values\": 6,\n        \"samples\": [\n          \"Mahesh\",\n          \"Suresh\",\n          \"Mukesh Ambani\"\n        ],\n        \"semantic_type\": \"\",\n        \"description\": \"\"\n      }\n    },\n    {\n      \"column\": \"Monthly Income (Lacks)\",\n      \"properties\": {\n        \"dtype\": \"number\",\n        \"std\": 49,\n        \"min\": 3,\n        \"max\": 125,\n        \"num_unique_values\": 6,\n        \"samples\": [\n          6,\n          5,\n          125\n        ],\n        \"semantic_type\": \"\",\n        \"description\": \"\"\n      }\n    },\n    {\n      \"column\": \"Brand of Costliest car they own\",\n      \"properties\": {\n        \"dtype\": \"string\",\n        \"num_unique_values\": 4,\n        \"samples\": [\n          \"BMW\",\n          \"Rolls Royce\",\n          \"Audi\"\n        ],\n        \"semantic_type\": \"\",\n        \"description\": \"\"\n      }\n    }\n  ]\n}"
            }
          },
          "metadata": {},
          "execution_count": 4
        }
      ]
    },
    {
      "cell_type": "code",
      "source": [
        "# Calculating mean /. Average\n",
        "df['Monthly Income (Lacks)'].mean()"
      ],
      "metadata": {
        "colab": {
          "base_uri": "https://localhost:8080/"
        },
        "id": "SiUDwcS5DlDB",
        "outputId": "f0b83d89-57dd-4acc-8ecb-618a1692e5b9"
      },
      "id": "SiUDwcS5DlDB",
      "execution_count": 5,
      "outputs": [
        {
          "output_type": "execute_result",
          "data": {
            "text/plain": [
              "25.0"
            ]
          },
          "metadata": {},
          "execution_count": 5
        }
      ]
    },
    {
      "cell_type": "code",
      "source": [
        "# Calculating Median value\n",
        "df['Monthly Income (Lacks)'].median()"
      ],
      "metadata": {
        "colab": {
          "base_uri": "https://localhost:8080/"
        },
        "id": "1VExPrntDur6",
        "outputId": "8c6ecb40-0742-4381-e9bd-f086ab96f51f"
      },
      "id": "1VExPrntDur6",
      "execution_count": 6,
      "outputs": [
        {
          "output_type": "execute_result",
          "data": {
            "text/plain": [
              "5.5"
            ]
          },
          "metadata": {},
          "execution_count": 6
        }
      ]
    },
    {
      "cell_type": "code",
      "source": [
        "# Finding a mode value\n",
        "df['Brand of Costliest car they own'].mode()"
      ],
      "metadata": {
        "colab": {
          "base_uri": "https://localhost:8080/",
          "height": 115
        },
        "id": "LoLFDtkEDzeq",
        "outputId": "cd477aeb-ba71-4ff4-abbb-1d08fabe3d18"
      },
      "id": "LoLFDtkEDzeq",
      "execution_count": 7,
      "outputs": [
        {
          "output_type": "execute_result",
          "data": {
            "text/plain": [
              "0    Audi\n",
              "Name: Brand of Costliest car they own, dtype: object"
            ],
            "text/html": [
              "<div>\n",
              "<style scoped>\n",
              "    .dataframe tbody tr th:only-of-type {\n",
              "        vertical-align: middle;\n",
              "    }\n",
              "\n",
              "    .dataframe tbody tr th {\n",
              "        vertical-align: top;\n",
              "    }\n",
              "\n",
              "    .dataframe thead th {\n",
              "        text-align: right;\n",
              "    }\n",
              "</style>\n",
              "<table border=\"1\" class=\"dataframe\">\n",
              "  <thead>\n",
              "    <tr style=\"text-align: right;\">\n",
              "      <th></th>\n",
              "      <th>Brand of Costliest car they own</th>\n",
              "    </tr>\n",
              "  </thead>\n",
              "  <tbody>\n",
              "    <tr>\n",
              "      <th>0</th>\n",
              "      <td>Audi</td>\n",
              "    </tr>\n",
              "  </tbody>\n",
              "</table>\n",
              "</div><br><label><b>dtype:</b> object</label>"
            ]
          },
          "metadata": {},
          "execution_count": 7
        }
      ]
    },
    {
      "cell_type": "code",
      "source": [
        "# First Quartile\n",
        "df['Monthly Income (Lacks)'].quantile(0.25)"
      ],
      "metadata": {
        "colab": {
          "base_uri": "https://localhost:8080/"
        },
        "id": "86NTEg1PDzbf",
        "outputId": "81f64e7e-74b5-4fe9-cf8b-560ea83a047f"
      },
      "id": "86NTEg1PDzbf",
      "execution_count": 8,
      "outputs": [
        {
          "output_type": "execute_result",
          "data": {
            "text/plain": [
              "4.25"
            ]
          },
          "metadata": {},
          "execution_count": 8
        }
      ]
    },
    {
      "cell_type": "code",
      "source": [
        "# Import Numerical Python Library for numerical calculations\n",
        "import numpy as np"
      ],
      "metadata": {
        "id": "3WhtO6yuDzX6"
      },
      "id": "3WhtO6yuDzX6",
      "execution_count": 9,
      "outputs": []
    },
    {
      "cell_type": "code",
      "source": [
        "# Create Numpy array\n",
        "a=np.array([100, 110, 110, 110, 120, 120, 130, 140, 140, 150, 170,220])"
      ],
      "metadata": {
        "id": "x0qxzdQPDzUr"
      },
      "id": "x0qxzdQPDzUr",
      "execution_count": 10,
      "outputs": []
    },
    {
      "cell_type": "code",
      "source": [
        "# First Quartile (Q1) – 25% of the data lies below the First (lower) Quartile.\n",
        "Q1=np.quantile(a,0.25)\n",
        "print(Q1)"
      ],
      "metadata": {
        "id": "jAIYhgOdR5BE",
        "outputId": "1be13bdc-4e66-470d-8471-bb63b2c5e5e8",
        "colab": {
          "base_uri": "https://localhost:8080/"
        }
      },
      "id": "jAIYhgOdR5BE",
      "execution_count": 11,
      "outputs": [
        {
          "output_type": "stream",
          "name": "stdout",
          "text": [
            "110.0\n"
          ]
        }
      ]
    },
    {
      "cell_type": "code",
      "source": [
        "# Median (Q2) – It is the mid-point of the dataset. Half of the values lie below it and half above.\n",
        "Q2=np.quantile(a,0.50)\n",
        "print(Q2)"
      ],
      "metadata": {
        "id": "ElGDJUT2U58R",
        "outputId": "d02d00d5-9940-4f54-c080-46b7303783a5",
        "colab": {
          "base_uri": "https://localhost:8080/"
        }
      },
      "id": "ElGDJUT2U58R",
      "execution_count": 12,
      "outputs": [
        {
          "output_type": "stream",
          "name": "stdout",
          "text": [
            "125.0\n"
          ]
        }
      ]
    },
    {
      "cell_type": "code",
      "source": [
        "# Third Quartile (Q3) – 75% of the data lies below the Third (Upper) Quartile.\n",
        "Q3=np.quantile(a,0.75)\n",
        "print(Q3)"
      ],
      "metadata": {
        "id": "GaRk4kuRU55N",
        "outputId": "747f37ca-cb5b-4e3d-e39f-0523ede6add5",
        "colab": {
          "base_uri": "https://localhost:8080/"
        }
      },
      "id": "GaRk4kuRU55N",
      "execution_count": 13,
      "outputs": [
        {
          "output_type": "stream",
          "name": "stdout",
          "text": [
            "142.5\n"
          ]
        }
      ]
    },
    {
      "cell_type": "code",
      "source": [
        "# Inter Quartile Range\n",
        "IQR=Q3-Q1\n",
        "print(IQR)"
      ],
      "metadata": {
        "id": "Oddeab62U52Z",
        "outputId": "6fff25a8-5387-497e-d1a6-93e3947c3f83",
        "colab": {
          "base_uri": "https://localhost:8080/"
        }
      },
      "id": "Oddeab62U52Z",
      "execution_count": 14,
      "outputs": [
        {
          "output_type": "stream",
          "name": "stdout",
          "text": [
            "32.5\n"
          ]
        }
      ]
    },
    {
      "cell_type": "code",
      "source": [
        "# Minimum – It is the minimum value in the dataset excluding the outliers.\n",
        "min=Q1-1.5*IQR\n",
        "print(min)"
      ],
      "metadata": {
        "id": "r55vNuUPU5zU",
        "outputId": "860e5a38-f06f-4078-d2d4-93fb6d8ee06a",
        "colab": {
          "base_uri": "https://localhost:8080/"
        }
      },
      "id": "r55vNuUPU5zU",
      "execution_count": 15,
      "outputs": [
        {
          "output_type": "stream",
          "name": "stdout",
          "text": [
            "61.25\n"
          ]
        }
      ]
    },
    {
      "cell_type": "code",
      "source": [
        "# Maximum – It is the maximum value in the dataset excluding the outliers.\n",
        "max=Q3+1.5*IQR\n",
        "print(max)"
      ],
      "metadata": {
        "id": "KRsfqStCU5wD",
        "outputId": "d1d98a50-f43b-4b5d-c2ad-8a67d8775fea",
        "colab": {
          "base_uri": "https://localhost:8080/"
        }
      },
      "id": "KRsfqStCU5wD",
      "execution_count": 16,
      "outputs": [
        {
          "output_type": "stream",
          "name": "stdout",
          "text": [
            "191.25\n"
          ]
        }
      ]
    },
    {
      "cell_type": "code",
      "source": [
        "# Import seaborn Library for advanced plots\n",
        "import seaborn as sns\n",
        "import matplotlib.pyplot as plt"
      ],
      "metadata": {
        "id": "OhoxgXacU5s7"
      },
      "id": "OhoxgXacU5s7",
      "execution_count": 19,
      "outputs": []
    },
    {
      "cell_type": "code",
      "source": [
        "sns.boxplot(a) # Create boxplot\n",
        "plt.title('Box Plot') # Print title\n",
        "plt.show() # Display the contetnt"
      ],
      "metadata": {
        "id": "TpQnreF9mgJ5",
        "outputId": "5c604721-06b7-456c-a7b8-0f8e81ce9cc3",
        "colab": {
          "base_uri": "https://localhost:8080/",
          "height": 433
        }
      },
      "id": "TpQnreF9mgJ5",
      "execution_count": 20,
      "outputs": [
        {
          "output_type": "display_data",
          "data": {
            "text/plain": [
              "<Figure size 640x480 with 1 Axes>"
            ],
            "image/png": "[encoded data removed]"
          },
          "metadata": {}
        }
      ]
    },
    {
      "cell_type": "code",
      "source": [
        "# Handle Outliers - Clip to minimum and maximum value\n",
        "a_new=np.clip(a,min,max)\n",
        "print(a_new)"
      ],
      "metadata": {
        "id": "J5V3_KAOmgF-",
        "outputId": "a8e69556-8566-4fb0-c27b-9ddf32baba90",
        "colab": {
          "base_uri": "https://localhost:8080/"
        }
      },
      "id": "J5V3_KAOmgF-",
      "execution_count": 21,
      "outputs": [
        {
          "output_type": "stream",
          "name": "stdout",
          "text": [
            "[100.   110.   110.   110.   120.   120.   130.   140.   140.   150.\n",
            " 170.   191.25]\n"
          ]
        }
      ]
    },
    {
      "cell_type": "code",
      "source": [
        "# Create box plot\n",
        "sns.boxplot(a_new)\n",
        "plt.title('Box Plot')\n",
        "plt.show()"
      ],
      "metadata": {
        "id": "QcE880R_mgCU",
        "outputId": "c6e0b93f-2fec-47bd-8b38-33c06f8544f6",
        "colab": {
          "base_uri": "https://localhost:8080/",
          "height": 433
        }
      },
      "id": "QcE880R_mgCU",
      "execution_count": 23,
      "outputs": [
        {
          "output_type": "display_data",
          "data": {
            "text/plain": [
              "<Figure size 640x480 with 1 Axes>"
            ],
            "image/png": "[encoded data removed]"
          },
          "metadata": {}
        }
      ]
    }
  ],
  "metadata": {
    "colab": {
      "provenance": []
    },
    "language_info": {
      "name": "python"
    },
    "kernelspec": {
      "name": "python3",
      "display_name": "Python 3"
    }
  },
  "nbformat": 4,
  "nbformat_minor": 5
}