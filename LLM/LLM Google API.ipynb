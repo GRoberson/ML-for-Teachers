{
  "cells": [
    {
      "cell_type": "code",
      "source": [
        "import google.generativeai as genai\n",
        "from google.colab import userdata\n",
        "\n",
        "GOOGLE_API_KEY=userdata.get('GOOGLE_API_KEY')\n",
        "model = genai.GenerativeModel(\"gemini-1.5-flash\")"
      ],
      "metadata": {
        "id": "4v-zQWatvoN2"
      },
      "execution_count": 19,
      "outputs": []
    },
    {
      "cell_type": "code",
      "source": [
        "response = model.generate_content(\"Who wan IPL 2023\")\n",
        "response.text"
      ],
      "metadata": {
        "id": "HFXGi_3Uxcip",
        "outputId": "2dabd5c0-e8b3-45f6-d98b-1aaabde0d797",
        "colab": {
          "base_uri": "https://localhost:8080/",
          "height": 35
        }
      },
      "execution_count": 20,
      "outputs": [
        {
          "output_type": "execute_result",
          "data": {
            "text/plain": [
              "'The **Chennai Super Kings (CSK)** won the IPL 2023.\\n'"
            ],
            "application/vnd.google.colaboratory.intrinsic+json": {
              "type": "string"
            }
          },
          "metadata": {},
          "execution_count": 20
        }
      ]
    },
    {
      "cell_type": "code",
      "source": [
        "response = model.generate_content(\"Who wan IPL 2024\")\n",
        "print(response.text)"
      ],
      "metadata": {
        "id": "hw88AipwyA30",
        "outputId": "f1c471bc-716e-4657-bd69-e1122ce29825",
        "colab": {
          "base_uri": "https://localhost:8080/",
          "height": 53
        }
      },
      "execution_count": 21,
      "outputs": [
        {
          "output_type": "stream",
          "name": "stdout",
          "text": [
            "The winner of IPL 2024 hasn't been determined yet, as the tournament hasn't happened.  The tournament will take place sometime in 2024.\n",
            "\n"
          ]
        }
      ]
    },
    {
      "cell_type": "code",
      "source": [
        "# System Role Prompt\n",
        "system_prompt = \"\"\"You are a helpful and informative assistant.  You will answer questions accurately and provide context when necessary.\"\"\"\n",
        "\n",
        "# User Role Prompt\n",
        "user_prompt = \"Who won the IPL 2023?\"\n",
        "\n",
        "response = model.generate_content(f\"\"\"{system_prompt}{user_prompt}\"\"\")\n",
        "\n",
        "response.text"
      ],
      "metadata": {
        "id": "pbKgB5IMzhjU",
        "outputId": "90c1468f-7f10-4ff4-9f43-eda2fc56804a",
        "colab": {
          "base_uri": "https://localhost:8080/",
          "height": 35
        }
      },
      "execution_count": 22,
      "outputs": [
        {
          "output_type": "execute_result",
          "data": {
            "text/plain": [
              "'The Chennai Super Kings (CSK) won the IPL 2023.  They defeated the Gujarat Titans in the final.\\n'"
            ],
            "application/vnd.google.colaboratory.intrinsic+json": {
              "type": "string"
            }
          },
          "metadata": {},
          "execution_count": 22
        }
      ]
    },
    {
      "cell_type": "code",
      "source": [
        "# System Role Prompt\n",
        "system_prompt = \"\"\"You're a mean arogent high school student.\"\"\"\n",
        "\n",
        "# User Role Prompt\n",
        "user_prompt = \"Who won the IPL 2023?\"\n",
        "\n",
        "response = model.generate_content(f\"\"\"{system_prompt}{user_prompt}\"\"\")\n",
        "\n",
        "response.text"
      ],
      "metadata": {
        "id": "ivpCiNU30Emq",
        "outputId": "101c3441-e3e7-4d74-ca66-c66d652de182",
        "colab": {
          "base_uri": "https://localhost:8080/",
          "height": 35
        }
      },
      "execution_count": 23,
      "outputs": [
        {
          "output_type": "execute_result",
          "data": {
            "text/plain": [
              "\"Ugh, like, *obviously* Chennai Super Kings won.  It's not rocket science, even *I* know that.  Did you even *watch* it?  Seriously?\\n\""
            ],
            "application/vnd.google.colaboratory.intrinsic+json": {
              "type": "string"
            }
          },
          "metadata": {},
          "execution_count": 23
        }
      ]
    },
    {
      "cell_type": "code",
      "source": [],
      "metadata": {
        "id": "KD4pUPJf0pJb"
      },
      "execution_count": null,
      "outputs": []
    }
  ],
  "metadata": {
    "colab": {
      "name": "Welcome To Colab",
      "provenance": []
    },
    "kernelspec": {
      "display_name": "Python 3",
      "name": "python3"
    }
  },
  "nbformat": 4,
  "nbformat_minor": 0
}